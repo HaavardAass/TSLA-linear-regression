{
 "cells": [
  {
   "cell_type": "markdown",
   "id": "17c72794",
   "metadata": {},
   "source": [
    "Importing sufficient modules for the program"
   ]
  },
  {
   "cell_type": "code",
   "execution_count": 1,
   "id": "faf01ccf",
   "metadata": {},
   "outputs": [],
   "source": [
    "import pandas as pd\n",
    "from sklearn.linear_model import LinearRegression\n",
    "from sklearn.model_selection import train_test_split\n",
    "from sklearn.metrics import mean_squared_error, r2_score\n",
    "import matplotlib.pyplot as plt\n",
    "%matplotlib inline"
   ]
  },
  {
   "cell_type": "markdown",
   "id": "85c8496d",
   "metadata": {},
   "source": [
    "Loading the raw data from the github to a dataframe and then print the data"
   ]
  },
  {
   "cell_type": "code",
   "execution_count": 2,
   "id": "12f680e0",
   "metadata": {},
   "outputs": [
    {
     "data": {
      "text/html": [
       "<div>\n",
       "<style scoped>\n",
       "    .dataframe tbody tr th:only-of-type {\n",
       "        vertical-align: middle;\n",
       "    }\n",
       "\n",
       "    .dataframe tbody tr th {\n",
       "        vertical-align: top;\n",
       "    }\n",
       "\n",
       "    .dataframe thead th {\n",
       "        text-align: right;\n",
       "    }\n",
       "</style>\n",
       "<table border=\"1\" class=\"dataframe\">\n",
       "  <thead>\n",
       "    <tr style=\"text-align: right;\">\n",
       "      <th></th>\n",
       "      <th>Date</th>\n",
       "      <th>Open</th>\n",
       "      <th>High</th>\n",
       "      <th>Low</th>\n",
       "      <th>Close</th>\n",
       "      <th>Adj Close</th>\n",
       "      <th>Volume</th>\n",
       "    </tr>\n",
       "  </thead>\n",
       "  <tbody>\n",
       "    <tr>\n",
       "      <th>0</th>\n",
       "      <td>2010-06-29</td>\n",
       "      <td>3.800</td>\n",
       "      <td>5.000</td>\n",
       "      <td>3.508</td>\n",
       "      <td>4.778</td>\n",
       "      <td>4.778</td>\n",
       "      <td>93831500</td>\n",
       "    </tr>\n",
       "    <tr>\n",
       "      <th>1</th>\n",
       "      <td>2010-06-30</td>\n",
       "      <td>5.158</td>\n",
       "      <td>6.084</td>\n",
       "      <td>4.660</td>\n",
       "      <td>4.766</td>\n",
       "      <td>4.766</td>\n",
       "      <td>85935500</td>\n",
       "    </tr>\n",
       "    <tr>\n",
       "      <th>2</th>\n",
       "      <td>2010-07-01</td>\n",
       "      <td>5.000</td>\n",
       "      <td>5.184</td>\n",
       "      <td>4.054</td>\n",
       "      <td>4.392</td>\n",
       "      <td>4.392</td>\n",
       "      <td>41094000</td>\n",
       "    </tr>\n",
       "    <tr>\n",
       "      <th>3</th>\n",
       "      <td>2010-07-02</td>\n",
       "      <td>4.600</td>\n",
       "      <td>4.620</td>\n",
       "      <td>3.742</td>\n",
       "      <td>3.840</td>\n",
       "      <td>3.840</td>\n",
       "      <td>25699000</td>\n",
       "    </tr>\n",
       "    <tr>\n",
       "      <th>4</th>\n",
       "      <td>2010-07-06</td>\n",
       "      <td>4.000</td>\n",
       "      <td>4.000</td>\n",
       "      <td>3.166</td>\n",
       "      <td>3.222</td>\n",
       "      <td>3.222</td>\n",
       "      <td>34334500</td>\n",
       "    </tr>\n",
       "  </tbody>\n",
       "</table>\n",
       "</div>"
      ],
      "text/plain": [
       "         Date   Open   High    Low  Close  Adj Close    Volume\n",
       "0  2010-06-29  3.800  5.000  3.508  4.778      4.778  93831500\n",
       "1  2010-06-30  5.158  6.084  4.660  4.766      4.766  85935500\n",
       "2  2010-07-01  5.000  5.184  4.054  4.392      4.392  41094000\n",
       "3  2010-07-02  4.600  4.620  3.742  3.840      3.840  25699000\n",
       "4  2010-07-06  4.000  4.000  3.166  3.222      3.222  34334500"
      ]
     },
     "execution_count": 2,
     "metadata": {},
     "output_type": "execute_result"
    }
   ],
   "source": [
    "# Load data from the provided URL\n",
    "url = 'https://raw.githubusercontent.com/atikagondal/Assignment-2-dave3625-202323/main/TSLA.csv'\n",
    "Data = pd.read_csv(url, sep=',')\n",
    "Data.head()"
   ]
  },
  {
   "cell_type": "markdown",
   "id": "446dac93",
   "metadata": {},
   "source": [
    "Describing the dataframe in form of generating the descriptive statistics"
   ]
  },
  {
   "cell_type": "code",
   "execution_count": 3,
   "id": "f5896497",
   "metadata": {},
   "outputs": [
    {
     "data": {
      "text/html": [
       "<div>\n",
       "<style scoped>\n",
       "    .dataframe tbody tr th:only-of-type {\n",
       "        vertical-align: middle;\n",
       "    }\n",
       "\n",
       "    .dataframe tbody tr th {\n",
       "        vertical-align: top;\n",
       "    }\n",
       "\n",
       "    .dataframe thead th {\n",
       "        text-align: right;\n",
       "    }\n",
       "</style>\n",
       "<table border=\"1\" class=\"dataframe\">\n",
       "  <thead>\n",
       "    <tr style=\"text-align: right;\">\n",
       "      <th></th>\n",
       "      <th>Open</th>\n",
       "      <th>High</th>\n",
       "      <th>Low</th>\n",
       "      <th>Close</th>\n",
       "      <th>Adj Close</th>\n",
       "      <th>Volume</th>\n",
       "    </tr>\n",
       "  </thead>\n",
       "  <tbody>\n",
       "    <tr>\n",
       "      <th>count</th>\n",
       "      <td>2845.000000</td>\n",
       "      <td>2845.000000</td>\n",
       "      <td>2845.000000</td>\n",
       "      <td>2845.000000</td>\n",
       "      <td>2845.000000</td>\n",
       "      <td>2.845000e+03</td>\n",
       "    </tr>\n",
       "    <tr>\n",
       "      <th>mean</th>\n",
       "      <td>105.797199</td>\n",
       "      <td>107.959321</td>\n",
       "      <td>103.485805</td>\n",
       "      <td>105.853488</td>\n",
       "      <td>105.853488</td>\n",
       "      <td>3.145634e+07</td>\n",
       "    </tr>\n",
       "    <tr>\n",
       "      <th>std</th>\n",
       "      <td>188.691743</td>\n",
       "      <td>192.434544</td>\n",
       "      <td>184.592519</td>\n",
       "      <td>188.788993</td>\n",
       "      <td>188.788993</td>\n",
       "      <td>2.845125e+07</td>\n",
       "    </tr>\n",
       "    <tr>\n",
       "      <th>min</th>\n",
       "      <td>3.228000</td>\n",
       "      <td>3.326000</td>\n",
       "      <td>2.996000</td>\n",
       "      <td>3.160000</td>\n",
       "      <td>3.160000</td>\n",
       "      <td>5.925000e+05</td>\n",
       "    </tr>\n",
       "    <tr>\n",
       "      <th>25%</th>\n",
       "      <td>10.352000</td>\n",
       "      <td>10.748000</td>\n",
       "      <td>10.132000</td>\n",
       "      <td>10.400000</td>\n",
       "      <td>10.400000</td>\n",
       "      <td>1.252200e+07</td>\n",
       "    </tr>\n",
       "    <tr>\n",
       "      <th>50%</th>\n",
       "      <td>45.868000</td>\n",
       "      <td>46.493999</td>\n",
       "      <td>45.099998</td>\n",
       "      <td>45.902000</td>\n",
       "      <td>45.902000</td>\n",
       "      <td>2.482100e+07</td>\n",
       "    </tr>\n",
       "    <tr>\n",
       "      <th>75%</th>\n",
       "      <td>65.000000</td>\n",
       "      <td>66.251999</td>\n",
       "      <td>63.993999</td>\n",
       "      <td>65.234001</td>\n",
       "      <td>65.234001</td>\n",
       "      <td>4.014650e+07</td>\n",
       "    </tr>\n",
       "    <tr>\n",
       "      <th>max</th>\n",
       "      <td>891.380005</td>\n",
       "      <td>900.400024</td>\n",
       "      <td>871.599976</td>\n",
       "      <td>883.090027</td>\n",
       "      <td>883.090027</td>\n",
       "      <td>3.046940e+08</td>\n",
       "    </tr>\n",
       "  </tbody>\n",
       "</table>\n",
       "</div>"
      ],
      "text/plain": [
       "              Open         High          Low        Close    Adj Close  \\\n",
       "count  2845.000000  2845.000000  2845.000000  2845.000000  2845.000000   \n",
       "mean    105.797199   107.959321   103.485805   105.853488   105.853488   \n",
       "std     188.691743   192.434544   184.592519   188.788993   188.788993   \n",
       "min       3.228000     3.326000     2.996000     3.160000     3.160000   \n",
       "25%      10.352000    10.748000    10.132000    10.400000    10.400000   \n",
       "50%      45.868000    46.493999    45.099998    45.902000    45.902000   \n",
       "75%      65.000000    66.251999    63.993999    65.234001    65.234001   \n",
       "max     891.380005   900.400024   871.599976   883.090027   883.090027   \n",
       "\n",
       "             Volume  \n",
       "count  2.845000e+03  \n",
       "mean   3.145634e+07  \n",
       "std    2.845125e+07  \n",
       "min    5.925000e+05  \n",
       "25%    1.252200e+07  \n",
       "50%    2.482100e+07  \n",
       "75%    4.014650e+07  \n",
       "max    3.046940e+08  "
      ]
     },
     "execution_count": 3,
     "metadata": {},
     "output_type": "execute_result"
    }
   ],
   "source": [
    "Data.describe()"
   ]
  },
  {
   "cell_type": "markdown",
   "id": "6e4a9769",
   "metadata": {},
   "source": [
    "First we convert the date column to a pandas datetime object. Then we calculate the number of days since first day of dataset, which we later will use to check how accurate the analysis is for a certain date."
   ]
  },
  {
   "cell_type": "code",
   "execution_count": 4,
   "id": "b85698a9",
   "metadata": {},
   "outputs": [],
   "source": [
    "Data['Date'] = pd.to_datetime(Data['Date'])\n",
    "Data['Days'] = (Data['Date'] - Data['Date'].min()).dt.days"
   ]
  },
  {
   "cell_type": "markdown",
   "id": "e08d8517",
   "metadata": {},
   "source": [
    "Creating a plot for the close price according to the dataframe."
   ]
  },
  {
   "cell_type": "code",
   "execution_count": 5,
   "id": "2befe700",
   "metadata": {},
   "outputs": [
    {
     "data": {
      "image/png": "[encoded data removed]",
      "text/plain": [
       "<Figure size 640x480 with 1 Axes>"
      ]
     },
     "metadata": {},
     "output_type": "display_data"
    }
   ],
   "source": [
    "Close = Data['Close']\n",
    "ax = Close.plot(title='TSLA stock')\n",
    "ax.set_xlabel('Date')\n",
    "ax.set_ylabel('Close price')\n",
    "plt.show()"
   ]
  },
  {
   "cell_type": "markdown",
   "id": "0b08cb7e",
   "metadata": {},
   "source": [
    "Now we prepare for the regression, by splitting the dataframe to x and y."
   ]
  },
  {
   "cell_type": "code",
   "execution_count": 6,
   "id": "684dfb24",
   "metadata": {},
   "outputs": [],
   "source": [
    "X = Data[['Days']].values\n",
    "Y = Data['Close']"
   ]
  },
  {
   "cell_type": "markdown",
   "id": "0548fd77",
   "metadata": {},
   "source": [
    "Split the data into the training sets. Test size 0.2 says that 20% of the data will be used for modelling, the last 80% will be used for training. "
   ]
  },
  {
   "cell_type": "code",
   "execution_count": 7,
   "id": "9b7cda08",
   "metadata": {},
   "outputs": [],
   "source": [
    "X_train, X_test, y_train, y_test = train_test_split(X, Y, test_size=0.2, random_state=42)"
   ]
  },
  {
   "cell_type": "markdown",
   "id": "ee70e25c",
   "metadata": {},
   "source": [
    "Initialize and train the linear regression model."
   ]
  },
  {
   "cell_type": "code",
   "execution_count": 8,
   "id": "4cc51c7c",
   "metadata": {},
   "outputs": [
    {
     "data": {
      "text/html": [
       "<style>#sk-container-id-1 {color: black;}#sk-container-id-1 pre{padding: 0;}#sk-container-id-1 div.sk-toggleable {background-color: white;}#sk-container-id-1 label.sk-toggleable__label {cursor: pointer;display: block;width: 100%;margin-bottom: 0;padding: 0.3em;box-sizing: border-box;text-align: center;}#sk-container-id-1 label.sk-toggleable__label-arrow:before {content: \"▸\";float: left;margin-right: 0.25em;color: #696969;}#sk-container-id-1 label.sk-toggleable__label-arrow:hover:before {color: black;}#sk-container-id-1 div.sk-estimator:hover label.sk-toggleable__label-arrow:before {color: black;}#sk-container-id-1 div.sk-toggleable__content {max-height: 0;max-width: 0;overflow: hidden;text-align: left;background-color: #f0f8ff;}#sk-container-id-1 div.sk-toggleable__content pre {margin: 0.2em;color: black;border-radius: 0.25em;background-color: #f0f8ff;}#sk-container-id-1 input.sk-toggleable__control:checked~div.sk-toggleable__content {max-height: 200px;max-width: 100%;overflow: auto;}#sk-container-id-1 input.sk-toggleable__control:checked~label.sk-toggleable__label-arrow:before {content: \"▾\";}#sk-container-id-1 div.sk-estimator input.sk-toggleable__control:checked~label.sk-toggleable__label {background-color: #d4ebff;}#sk-container-id-1 div.sk-label input.sk-toggleable__control:checked~label.sk-toggleable__label {background-color: #d4ebff;}#sk-container-id-1 input.sk-hidden--visually {border: 0;clip: rect(1px 1px 1px 1px);clip: rect(1px, 1px, 1px, 1px);height: 1px;margin: -1px;overflow: hidden;padding: 0;position: absolute;width: 1px;}#sk-container-id-1 div.sk-estimator {font-family: monospace;background-color: #f0f8ff;border: 1px dotted black;border-radius: 0.25em;box-sizing: border-box;margin-bottom: 0.5em;}#sk-container-id-1 div.sk-estimator:hover {background-color: #d4ebff;}#sk-container-id-1 div.sk-parallel-item::after {content: \"\";width: 100%;border-bottom: 1px solid gray;flex-grow: 1;}#sk-container-id-1 div.sk-label:hover label.sk-toggleable__label {background-color: #d4ebff;}#sk-container-id-1 div.sk-serial::before {content: \"\";position: absolute;border-left: 1px solid gray;box-sizing: border-box;top: 0;bottom: 0;left: 50%;z-index: 0;}#sk-container-id-1 div.sk-serial {display: flex;flex-direction: column;align-items: center;background-color: white;padding-right: 0.2em;padding-left: 0.2em;position: relative;}#sk-container-id-1 div.sk-item {position: relative;z-index: 1;}#sk-container-id-1 div.sk-parallel {display: flex;align-items: stretch;justify-content: center;background-color: white;position: relative;}#sk-container-id-1 div.sk-item::before, #sk-container-id-1 div.sk-parallel-item::before {content: \"\";position: absolute;border-left: 1px solid gray;box-sizing: border-box;top: 0;bottom: 0;left: 50%;z-index: -1;}#sk-container-id-1 div.sk-parallel-item {display: flex;flex-direction: column;z-index: 1;position: relative;background-color: white;}#sk-container-id-1 div.sk-parallel-item:first-child::after {align-self: flex-end;width: 50%;}#sk-container-id-1 div.sk-parallel-item:last-child::after {align-self: flex-start;width: 50%;}#sk-container-id-1 div.sk-parallel-item:only-child::after {width: 0;}#sk-container-id-1 div.sk-dashed-wrapped {border: 1px dashed gray;margin: 0 0.4em 0.5em 0.4em;box-sizing: border-box;padding-bottom: 0.4em;background-color: white;}#sk-container-id-1 div.sk-label label {font-family: monospace;font-weight: bold;display: inline-block;line-height: 1.2em;}#sk-container-id-1 div.sk-label-container {text-align: center;}#sk-container-id-1 div.sk-container {/* jupyter's `normalize.less` sets `[hidden] { display: none; }` but bootstrap.min.css set `[hidden] { display: none !important; }` so we also need the `!important` here to be able to override the default hidden behavior on the sphinx rendered scikit-learn.org. See: https://github.com/scikit-learn/scikit-learn/issues/21755 */display: inline-block !important;position: relative;}#sk-container-id-1 div.sk-text-repr-fallback {display: none;}</style><div id=\"sk-container-id-1\" class=\"sk-top-container\"><div class=\"sk-text-repr-fallback\"><pre>LinearRegression()</pre><b>In a Jupyter environment, please rerun this cell to show the HTML representation or trust the notebook. <br />On GitHub, the HTML representation is unable to render, please try loading this page with nbviewer.org.</b></div><div class=\"sk-container\" hidden><div class=\"sk-item\"><div class=\"sk-estimator sk-toggleable\"><input class=\"sk-toggleable__control sk-hidden--visually\" id=\"sk-estimator-id-1\" type=\"checkbox\" checked><label for=\"sk-estimator-id-1\" class=\"sk-toggleable__label sk-toggleable__label-arrow\">LinearRegression</label><div class=\"sk-toggleable__content\"><pre>LinearRegression()</pre></div></div></div></div></div>"
      ],
      "text/plain": [
       "LinearRegression()"
      ]
     },
     "execution_count": 8,
     "metadata": {},
     "output_type": "execute_result"
    }
   ],
   "source": [
    "model = LinearRegression()\n",
    "model.fit(X_train, y_train)"
   ]
  },
  {
   "cell_type": "markdown",
   "id": "d2d698a1",
   "metadata": {},
   "source": [
    "Input, will ask the user for a specific date for prediction"
   ]
  },
  {
   "cell_type": "code",
   "execution_count": 9,
   "id": "7a947244",
   "metadata": {},
   "outputs": [
    {
     "name": "stdout",
     "output_type": "stream",
     "text": [
      "Enter a date (yyyy-mm-dd) for stock price prediction: 2014-12-12\n"
     ]
    }
   ],
   "source": [
    "user_date = input(\"Enter a date (yyyy-mm-dd) for stock price prediction: \")\n",
    "user_date_datetime = pd.to_datetime(user_date)"
   ]
  },
  {
   "cell_type": "markdown",
   "id": "290ca760",
   "metadata": {},
   "source": [
    "First we find the closest date in the datset, then we predict the price."
   ]
  },
  {
   "cell_type": "code",
   "execution_count": 10,
   "id": "48df9a70",
   "metadata": {},
   "outputs": [],
   "source": [
    "closest_date = Data['Date'].iloc[(Data['Date'] - user_date_datetime).abs().argsort()[0]]\n",
    "predicted_price = model.predict([[Data[Data['Date'] == closest_date]['Days'].values[0]]])[0]"
   ]
  },
  {
   "cell_type": "markdown",
   "id": "fb9d3538",
   "metadata": {},
   "source": [
    "First we calculate the actual price for the closest date, then we calculate the prediction percentage score and finally print the prediciton price, actual price and prediction percentage score."
   ]
  },
  {
   "cell_type": "code",
   "execution_count": 11,
   "id": "a372daaa",
   "metadata": {},
   "outputs": [
    {
     "name": "stdout",
     "output_type": "stream",
     "text": [
      "Predicted Price: $61.14\n",
      "Actual Price: $41.40\n",
      "Prediction Percentage Score: 147.68%\n"
     ]
    }
   ],
   "source": [
    "actual_price = Data[Data['Date'] == closest_date]['Close'].values[0]\n",
    "percentage_score = (predicted_price / actual_price) * 100\n",
    "print(f\"Predicted Price: ${predicted_price:.2f}\")\n",
    "print(f\"Actual Price: ${actual_price:.2f}\")\n",
    "print(f\"Prediction Percentage Score: {percentage_score:.2f}%\")"
   ]
  }
 ],
 "metadata": {
  "kernelspec": {
   "display_name": "Python 3 (ipykernel)",
   "language": "python",
   "name": "python3"
  },
  "language_info": {
   "codemirror_mode": {
    "name": "ipython",
    "version": 3
   },
   "file_extension": ".py",
   "mimetype": "text/x-python",
   "name": "python",
   "nbconvert_exporter": "python",
   "pygments_lexer": "ipython3",
   "version": "3.8.18"
  }
 },
 "nbformat": 4,
 "nbformat_minor": 5
}
